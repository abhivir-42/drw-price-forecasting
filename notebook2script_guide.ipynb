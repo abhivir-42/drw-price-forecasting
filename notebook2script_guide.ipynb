{
 "cells": [
  {
   "cell_type": "code",
   "execution_count": 1,
   "id": "86954e5a",
   "metadata": {},
   "outputs": [
    {
     "name": "stdout",
     "output_type": "stream",
     "text": [
      "FastAI version: 2.8.4\n",
      "Python executable: /Users/abhivir42/ai/fastai/fast-venv/bin/python\n",
      "Python version: 3.12.7 (main, Jan 30 2025, 13:55:07) [Clang 15.0.0 (clang-1500.3.9.4)]\n"
     ]
    }
   ],
   "source": [
    "# Test fast-venv environment activation\n",
    "import fastai\n",
    "import sys\n",
    "print(f\"FastAI version: {fastai.__version__}\")\n",
    "print(f\"Python executable: {sys.executable}\")\n",
    "print(f\"Python version: {sys.version}\")"
   ]
  },
  {
   "cell_type": "markdown",
   "id": "f21d89cd",
   "metadata": {},
   "source": [
    "# FastAI Environment Setup\n",
    "\n",
    "This notebook is configured to use the **fast-venv** environment.\n",
    "\n",
    "## To select the fast-venv kernel in Jupyter:\n",
    "1. Click on the kernel selector in the top-right corner of the notebook\n",
    "2. Select \"fast-venv\" from the dropdown\n",
    "3. Or use `Cmd+Shift+P` → \"Notebook: Select Notebook Kernel\" → \"fast-venv\"\n",
    "\n",
    "## Environment Details:\n",
    "- **FastAI Version**: 2.8.4\n",
    "- **Python Path**: `/Users/abhivir42/ai/fastai/fast-venv/bin/python`\n",
    "- **Kernel Name**: fast-venv\n"
   ]
  },
  {
   "cell_type": "code",
   "execution_count": 2,
   "id": "2c992453",
   "metadata": {},
   "outputs": [
    {
     "name": "stdout",
     "output_type": "stream",
     "text": [
      "nbdev version: 2.4.5\n",
      "nbdev is ready to use!\n"
     ]
    }
   ],
   "source": [
    "# Test nbdev installation\n",
    "import nbdev\n",
    "print(f\"nbdev version: {nbdev.__version__}\")\n",
    "\n",
    "# Test some nbdev functionality\n",
    "from nbdev.config import get_config\n",
    "print(\"nbdev is ready to use!\")\n"
   ]
  },
  {
   "cell_type": "code",
   "execution_count": null,
   "id": "efdb2a20",
   "metadata": {},
   "outputs": [],
   "source": [
    "# Export notebook to Python script using nbdev\n",
    "from nbdev.export import nb_export\n",
    "import os\n",
    "\n",
    "# Method 1: Export current notebook to a Python file\n",
    "# Note: Use full path to the notebook file\n",
    "notebook_path = \"./drw-markets-challenge.ipynb\"\n",
    "output_path = \".\"  # current directory\n",
    "\n",
    "# Export the notebook\n",
    "try:\n",
    "    result = nb_export(notebook_path, output_path, name=\"drw_markets_challenge\", debug=True)\n",
    "    print(\"✅ Notebook exported to Python script!\")\n",
    "    print(f\"📁 Check for: drw_markets_challenge.py in the current directory\")\n",
    "    \n",
    "    # Check if file was created\n",
    "    if os.path.exists(\"drw_markets_challenge.py\"):\n",
    "        print(\"📄 Python file successfully created!\")\n",
    "        with open(\"drw_markets_challenge.py\", \"r\") as f:\n",
    "            lines = f.readlines()\n",
    "            print(f\"📊 File contains {len(lines)} lines\")\n",
    "    else:\n",
    "        print(\"❌ Python file not found\")\n",
    "        \n",
    "except Exception as e:\n",
    "    print(f\"❌ Export failed: {e}\")\n"
   ]
  },
  {
   "cell_type": "markdown",
   "id": "32dd3ad3",
   "metadata": {},
   "source": [
    "## 📝 How to Export .ipynb to .py with nbdev\n",
    "\n",
    "### Method 1: Using nb_export function (Recommended)\n",
    "```python\n",
    "from nbdev.export import nb_export\n",
    "\n",
    "# Export notebook to Python script\n",
    "# Note: Use full path to the notebook file\n",
    "nb_export(\"./notebook_name.ipynb\", \".\", name=\"output_module_name\")\n",
    "```\n",
    "\n",
    "### Method 2: Programmatic export with custom settings\n",
    "```python\n",
    "from nbdev.export import nb_export\n",
    "\n",
    "# Export with custom settings\n",
    "nb_export(\n",
    "    nbname=\"./drw-markets-challenge.ipynb\",  # full path to notebook\n",
    "    lib_path=\".\",                            # output directory\n",
    "    name=\"drw_markets\",                     # output module name\n",
    "    debug=True                              # set to True for debugging\n",
    ")\n",
    "```\n",
    "\n",
    "### Method 3: Alternative - Using jupyter nbconvert\n",
    "```bash\n",
    "# In terminal (if you prefer traditional approach)\n",
    "jupyter nbconvert --to python notebook_name.ipynb\n",
    "```\n",
    "\n",
    "### Key Points:\n",
    "- **nbname**: Full path to the notebook file (including `.ipynb` extension)\n",
    "- **lib_path**: Directory where to save the `.py` file\n",
    "- **name**: Name for the output Python module\n",
    "- **debug**: Set to `True` to see detailed export information\n",
    "- **Result**: Creates a clean Python script with only code cells (no markdown)\n"
   ]
  },
  {
   "cell_type": "markdown",
   "id": "5439e12d",
   "metadata": {},
   "source": [
    "# MAIN WAY: "
   ]
  },
  {
   "cell_type": "markdown",
   "id": "9b7ca225",
   "metadata": {},
   "source": [
    "## 🎯 Using `#|` Export Directives (The nbdev Way!)\n",
    "\n",
    "nbdev uses special `#|` comments to control how cells are exported to Python files. This is much more powerful than just converting everything!\n",
    "\n",
    "### Export Directives:\n",
    "\n",
    "- `#| export` - Export this cell to the Python module\n",
    "- `#| exporti` - Export this cell but don't include it in `__all__`\n",
    "- `#| hide` - Hide this cell from exports (keep it in notebook only)\n",
    "- `#| default_exp module_name` - Set the default export module name\n",
    "- `#| eval: false` - Don't execute this cell during export\n"
   ]
  },
  {
   "cell_type": "code",
   "execution_count": null,
   "id": "f6d448f9",
   "metadata": {},
   "outputs": [],
   "source": [
    "#| default_exp drw_markets\n",
    "# This sets the default export module name\n"
   ]
  },
  {
   "cell_type": "code",
   "execution_count": null,
   "id": "5cee0bb2",
   "metadata": {},
   "outputs": [],
   "source": [
    "#| export\n",
    "def hello_world():\n",
    "    \"\"\"A simple function that will be exported to the Python module.\"\"\"\n",
    "    return \"Hello from nbdev!\"\n",
    "\n",
    "#| export\n",
    "class DataProcessor:\n",
    "    \"\"\"A class that will be exported to the Python module.\"\"\"\n",
    "    \n",
    "    def __init__(self, name):\n",
    "        self.name = name\n",
    "    \n",
    "    def process(self, data):\n",
    "        return f\"Processing {data} with {self.name}\"\n"
   ]
  },
  {
   "cell_type": "code",
   "execution_count": null,
   "id": "daa8116e",
   "metadata": {},
   "outputs": [],
   "source": [
    "#| hide\n",
    "# This cell will NOT be exported to the Python module\n",
    "# It's only for notebook exploration and testing\n",
    "\n",
    "# Test the functions we defined\n",
    "print(hello_world())\n",
    "processor = DataProcessor(\"MyProcessor\")\n",
    "print(processor.process(\"some data\"))\n"
   ]
  },
  {
   "cell_type": "code",
   "execution_count": null,
   "id": "120f3a0c",
   "metadata": {},
   "outputs": [],
   "source": [
    "#| export\n",
    "#| eval: false\n",
    "# This cell will be exported but not executed during export\n",
    "# Useful for imports or configuration that shouldn't run during build\n",
    "\n",
    "import pandas as pd\n",
    "import numpy as np\n",
    "from typing import List, Dict, Optional\n",
    "\n",
    "# Configuration constants\n",
    "DEFAULT_BATCH_SIZE = 32\n",
    "MAX_ITERATIONS = 1000\n"
   ]
  },
  {
   "cell_type": "code",
   "execution_count": null,
   "id": "c358294a",
   "metadata": {},
   "outputs": [],
   "source": [
    "#| hide\n",
    "# Now let's export using nbdev with the #| directives\n",
    "from nbdev.export import nb_export\n",
    "import os\n",
    "\n",
    "# Export the notebook - nbdev will respect the #| directives\n",
    "try:\n",
    "    result = nb_export(\"./drw-markets-challenge.ipynb\", \".\", debug=True)\n",
    "    print(\"✅ Notebook exported with #| directives!\")\n",
    "    \n",
    "    # Check what was created\n",
    "    if os.path.exists(\"drw_markets.py\"):\n",
    "        print(\"📄 Python file created: drw_markets.py\")\n",
    "        with open(\"drw_markets.py\", \"r\") as f:\n",
    "            content = f.read()\n",
    "            print(f\"📊 File size: {len(content)} characters\")\n",
    "            print(\"📋 First 500 characters:\")\n",
    "            print(\"-\" * 50)\n",
    "            print(content[:500])\n",
    "            print(\"-\" * 50)\n",
    "    else:\n",
    "        print(\"❌ Python file not found\")\n",
    "        \n",
    "except Exception as e:\n",
    "    print(f\"❌ Export failed: {e}\")\n"
   ]
  },
  {
   "cell_type": "code",
   "execution_count": null,
   "id": "29976d11",
   "metadata": {},
   "outputs": [],
   "source": []
  },
  {
   "cell_type": "code",
   "execution_count": null,
   "id": "c61b08cd",
   "metadata": {},
   "outputs": [],
   "source": []
  }
 ],
 "metadata": {
  "kernelspec": {
   "display_name": "fast-venv",
   "language": "python",
   "name": "python3"
  },
  "language_info": {
   "codemirror_mode": {
    "name": "ipython",
    "version": 3
   },
   "file_extension": ".py",
   "mimetype": "text/x-python",
   "name": "python",
   "nbconvert_exporter": "python",
   "pygments_lexer": "ipython3",
   "version": "3.12.7"
  }
 },
 "nbformat": 4,
 "nbformat_minor": 5
}
